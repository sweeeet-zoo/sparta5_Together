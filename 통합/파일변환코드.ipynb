{
 "cells": [
  {
   "cell_type": "code",
   "execution_count": 1,
   "metadata": {},
   "outputs": [
    {
     "name": "stdout",
     "output_type": "stream",
     "text": [
      "Collecting nbconvert\n",
      "  Downloading nbconvert-7.16.6-py3-none-any.whl.metadata (8.5 kB)\n",
      "Requirement already satisfied: beautifulsoup4 in c:\\users\\hamju\\.vscode\\sparta_vscode\\python_virtualenv\\lib\\site-packages (from nbconvert) (4.13.3)\n",
      "Collecting bleach!=5.0.0 (from bleach[css]!=5.0.0->nbconvert)\n",
      "  Downloading bleach-6.1.0-py3-none-any.whl.metadata (30 kB)\n",
      "Collecting defusedxml (from nbconvert)\n",
      "  Downloading defusedxml-0.7.1-py2.py3-none-any.whl.metadata (32 kB)\n",
      "Requirement already satisfied: importlib-metadata>=3.6 in c:\\users\\hamju\\.vscode\\sparta_vscode\\python_virtualenv\\lib\\site-packages (from nbconvert) (8.5.0)\n",
      "Collecting jinja2>=3.0 (from nbconvert)\n",
      "  Downloading jinja2-3.1.5-py3-none-any.whl.metadata (2.6 kB)\n",
      "Requirement already satisfied: jupyter-core>=4.7 in c:\\users\\hamju\\.vscode\\sparta_vscode\\python_virtualenv\\lib\\site-packages (from nbconvert) (5.7.2)\n",
      "Collecting jupyterlab-pygments (from nbconvert)\n",
      "  Downloading jupyterlab_pygments-0.3.0-py3-none-any.whl.metadata (4.4 kB)\n",
      "Collecting markupsafe>=2.0 (from nbconvert)\n",
      "  Downloading MarkupSafe-2.1.5-cp38-cp38-win_amd64.whl.metadata (3.1 kB)\n",
      "Collecting mistune<4,>=2.0.3 (from nbconvert)\n",
      "  Downloading mistune-3.1.2-py3-none-any.whl.metadata (1.7 kB)\n",
      "Collecting nbclient>=0.5.0 (from nbconvert)\n",
      "  Downloading nbclient-0.10.1-py3-none-any.whl.metadata (8.2 kB)\n",
      "Collecting nbformat>=5.7 (from nbconvert)\n",
      "  Downloading nbformat-5.10.4-py3-none-any.whl.metadata (3.6 kB)\n",
      "Requirement already satisfied: packaging in c:\\users\\hamju\\.vscode\\sparta_vscode\\python_virtualenv\\lib\\site-packages (from nbconvert) (24.2)\n",
      "Collecting pandocfilters>=1.4.1 (from nbconvert)\n",
      "  Downloading pandocfilters-1.5.1-py2.py3-none-any.whl.metadata (9.0 kB)\n",
      "Requirement already satisfied: pygments>=2.4.1 in c:\\users\\hamju\\.vscode\\sparta_vscode\\python_virtualenv\\lib\\site-packages (from nbconvert) (2.19.1)\n",
      "Requirement already satisfied: traitlets>=5.1 in c:\\users\\hamju\\.vscode\\sparta_vscode\\python_virtualenv\\lib\\site-packages (from nbconvert) (5.14.3)\n",
      "Requirement already satisfied: six>=1.9.0 in c:\\users\\hamju\\.vscode\\sparta_vscode\\python_virtualenv\\lib\\site-packages (from bleach!=5.0.0->bleach[css]!=5.0.0->nbconvert) (1.17.0)\n",
      "Collecting webencodings (from bleach!=5.0.0->bleach[css]!=5.0.0->nbconvert)\n",
      "  Downloading webencodings-0.5.1-py2.py3-none-any.whl.metadata (2.1 kB)\n",
      "Collecting tinycss2<1.3,>=1.1.0 (from bleach[css]!=5.0.0->nbconvert)\n",
      "  Downloading tinycss2-1.2.1-py3-none-any.whl.metadata (3.0 kB)\n",
      "Requirement already satisfied: zipp>=3.20 in c:\\users\\hamju\\.vscode\\sparta_vscode\\python_virtualenv\\lib\\site-packages (from importlib-metadata>=3.6->nbconvert) (3.20.2)\n",
      "Requirement already satisfied: platformdirs>=2.5 in c:\\users\\hamju\\.vscode\\sparta_vscode\\python_virtualenv\\lib\\site-packages (from jupyter-core>=4.7->nbconvert) (4.3.6)\n",
      "Requirement already satisfied: pywin32>=300 in c:\\users\\hamju\\.vscode\\sparta_vscode\\python_virtualenv\\lib\\site-packages (from jupyter-core>=4.7->nbconvert) (308)\n",
      "Requirement already satisfied: typing-extensions in c:\\users\\hamju\\.vscode\\sparta_vscode\\python_virtualenv\\lib\\site-packages (from mistune<4,>=2.0.3->nbconvert) (4.12.2)\n",
      "Requirement already satisfied: jupyter-client>=6.1.12 in c:\\users\\hamju\\.vscode\\sparta_vscode\\python_virtualenv\\lib\\site-packages (from nbclient>=0.5.0->nbconvert) (8.6.3)\n",
      "Collecting fastjsonschema>=2.15 (from nbformat>=5.7->nbconvert)\n",
      "  Downloading fastjsonschema-2.21.1-py3-none-any.whl.metadata (2.2 kB)\n",
      "Collecting jsonschema>=2.6 (from nbformat>=5.7->nbconvert)\n",
      "  Downloading jsonschema-4.23.0-py3-none-any.whl.metadata (7.9 kB)\n",
      "Requirement already satisfied: soupsieve>1.2 in c:\\users\\hamju\\.vscode\\sparta_vscode\\python_virtualenv\\lib\\site-packages (from beautifulsoup4->nbconvert) (2.6)\n",
      "Requirement already satisfied: attrs>=22.2.0 in c:\\users\\hamju\\.vscode\\sparta_vscode\\python_virtualenv\\lib\\site-packages (from jsonschema>=2.6->nbformat>=5.7->nbconvert) (25.1.0)\n",
      "Requirement already satisfied: importlib-resources>=1.4.0 in c:\\users\\hamju\\.vscode\\sparta_vscode\\python_virtualenv\\lib\\site-packages (from jsonschema>=2.6->nbformat>=5.7->nbconvert) (6.4.5)\n",
      "Collecting jsonschema-specifications>=2023.03.6 (from jsonschema>=2.6->nbformat>=5.7->nbconvert)\n",
      "  Downloading jsonschema_specifications-2023.12.1-py3-none-any.whl.metadata (3.0 kB)\n",
      "Collecting pkgutil-resolve-name>=1.3.10 (from jsonschema>=2.6->nbformat>=5.7->nbconvert)\n",
      "  Downloading pkgutil_resolve_name-1.3.10-py3-none-any.whl.metadata (624 bytes)\n",
      "Collecting referencing>=0.28.4 (from jsonschema>=2.6->nbformat>=5.7->nbconvert)\n",
      "  Downloading referencing-0.35.1-py3-none-any.whl.metadata (2.8 kB)\n",
      "Collecting rpds-py>=0.7.1 (from jsonschema>=2.6->nbformat>=5.7->nbconvert)\n",
      "  Downloading rpds_py-0.20.1-cp38-none-win_amd64.whl.metadata (4.2 kB)\n",
      "Requirement already satisfied: python-dateutil>=2.8.2 in c:\\users\\hamju\\.vscode\\sparta_vscode\\python_virtualenv\\lib\\site-packages (from jupyter-client>=6.1.12->nbclient>=0.5.0->nbconvert) (2.9.0.post0)\n",
      "Requirement already satisfied: pyzmq>=23.0 in c:\\users\\hamju\\.vscode\\sparta_vscode\\python_virtualenv\\lib\\site-packages (from jupyter-client>=6.1.12->nbclient>=0.5.0->nbconvert) (26.2.0)\n",
      "Requirement already satisfied: tornado>=6.2 in c:\\users\\hamju\\.vscode\\sparta_vscode\\python_virtualenv\\lib\\site-packages (from jupyter-client>=6.1.12->nbclient>=0.5.0->nbconvert) (6.4.2)\n",
      "Downloading nbconvert-7.16.6-py3-none-any.whl (258 kB)\n",
      "Downloading bleach-6.1.0-py3-none-any.whl (162 kB)\n",
      "Downloading jinja2-3.1.5-py3-none-any.whl (134 kB)\n",
      "Downloading MarkupSafe-2.1.5-cp38-cp38-win_amd64.whl (17 kB)\n",
      "Downloading mistune-3.1.2-py3-none-any.whl (53 kB)\n",
      "Downloading nbclient-0.10.1-py3-none-any.whl (25 kB)\n",
      "Downloading nbformat-5.10.4-py3-none-any.whl (78 kB)\n",
      "Downloading pandocfilters-1.5.1-py2.py3-none-any.whl (8.7 kB)\n",
      "Downloading defusedxml-0.7.1-py2.py3-none-any.whl (25 kB)\n",
      "Downloading jupyterlab_pygments-0.3.0-py3-none-any.whl (15 kB)\n",
      "Downloading fastjsonschema-2.21.1-py3-none-any.whl (23 kB)\n",
      "Downloading jsonschema-4.23.0-py3-none-any.whl (88 kB)\n",
      "Downloading tinycss2-1.2.1-py3-none-any.whl (21 kB)\n",
      "Downloading webencodings-0.5.1-py2.py3-none-any.whl (11 kB)\n",
      "Downloading jsonschema_specifications-2023.12.1-py3-none-any.whl (18 kB)\n",
      "Downloading pkgutil_resolve_name-1.3.10-py3-none-any.whl (4.7 kB)\n",
      "Downloading referencing-0.35.1-py3-none-any.whl (26 kB)\n",
      "Downloading rpds_py-0.20.1-cp38-none-win_amd64.whl (218 kB)\n",
      "Installing collected packages: webencodings, fastjsonschema, tinycss2, rpds-py, pkgutil-resolve-name, pandocfilters, mistune, markupsafe, jupyterlab-pygments, defusedxml, bleach, referencing, jinja2, jsonschema-specifications, jsonschema, nbformat, nbclient, nbconvert\n",
      "Successfully installed bleach-6.1.0 defusedxml-0.7.1 fastjsonschema-2.21.1 jinja2-3.1.5 jsonschema-4.23.0 jsonschema-specifications-2023.12.1 jupyterlab-pygments-0.3.0 markupsafe-2.1.5 mistune-3.1.2 nbclient-0.10.1 nbconvert-7.16.6 nbformat-5.10.4 pandocfilters-1.5.1 pkgutil-resolve-name-1.3.10 referencing-0.35.1 rpds-py-0.20.1 tinycss2-1.2.1 webencodings-0.5.1\n"
     ]
    },
    {
     "name": "stderr",
     "output_type": "stream",
     "text": [
      "\n",
      "[notice] A new release of pip is available: 24.3.1 -> 25.0.1\n",
      "[notice] To update, run: python.exe -m pip install --upgrade pip\n"
     ]
    }
   ],
   "source": [
    "! pip install nbconvert"
   ]
  },
  {
   "cell_type": "code",
   "execution_count": 6,
   "metadata": {},
   "outputs": [
    {
     "name": "stderr",
     "output_type": "stream",
     "text": [
      "[NbConvertApp] Converting notebook 2조_실전프로젝트_통합코드.ipynb to script\n",
      "[NbConvertApp] Writing 148627 bytes to 2조_실전프로젝트_통합코드.py\n"
     ]
    }
   ],
   "source": [
    "! jupyter nbconvert --to script 2조_실전프로젝트_통합코드.ipynb"
   ]
  }
 ],
 "metadata": {
  "kernelspec": {
   "display_name": "python_virtualenv",
   "language": "python",
   "name": "python3"
  },
  "language_info": {
   "codemirror_mode": {
    "name": "ipython",
    "version": 3
   },
   "file_extension": ".py",
   "mimetype": "text/x-python",
   "name": "python",
   "nbconvert_exporter": "python",
   "pygments_lexer": "ipython3",
   "version": "3.8.6"
  }
 },
 "nbformat": 4,
 "nbformat_minor": 2
}
