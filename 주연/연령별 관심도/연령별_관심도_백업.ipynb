{
 "cells": [
  {
   "cell_type": "code",
   "execution_count": 1,
   "metadata": {},
   "outputs": [],
   "source": [
    "import pandas as pd"
   ]
  },
  {
   "cell_type": "markdown",
   "metadata": {},
   "source": [
    "## 기타 브랜드"
   ]
  },
  {
   "cell_type": "code",
   "execution_count": null,
   "metadata": {},
   "outputs": [],
   "source": [
    "fake_age = 0"
   ]
  },
  {
   "cell_type": "code",
   "execution_count": null,
   "metadata": {},
   "outputs": [
    {
     "name": "stdout",
     "output_type": "stream",
     "text": [
      "<class 'pandas.core.frame.DataFrame'>\n",
      "RangeIndex: 324 entries, 0 to 323\n",
      "Data columns (total 6 columns):\n",
      " #   Column  Non-Null Count  Dtype  \n",
      "---  ------  --------------  -----  \n",
      " 0   날짜      324 non-null    object \n",
      " 1   그라운드플랜  324 non-null    float64\n",
      " 2   셀인샷     324 non-null    float64\n",
      " 3   쏘내추럴    324 non-null    float64\n",
      " 4   에스네이처   324 non-null    float64\n",
      " 5   연령대     324 non-null    object \n",
      "dtypes: float64(4), object(2)\n",
      "memory usage: 15.3+ KB\n"
     ]
    }
   ],
   "source": [
    "# 원본 데이터 확인\n",
    "fake_age.info()"
   ]
  },
  {
   "cell_type": "code",
   "execution_count": null,
   "metadata": {},
   "outputs": [
    {
     "name": "stdout",
     "output_type": "stream",
     "text": [
      "<class 'pandas.core.frame.DataFrame'>\n",
      "RangeIndex: 1296 entries, 0 to 1295\n",
      "Data columns (total 4 columns):\n",
      " #   Column  Non-Null Count  Dtype  \n",
      "---  ------  --------------  -----  \n",
      " 0   날짜      1296 non-null   object \n",
      " 1   연령대     1296 non-null   object \n",
      " 2   브랜드     1296 non-null   object \n",
      " 3   관심도     1296 non-null   float64\n",
      "dtypes: float64(1), object(3)\n",
      "memory usage: 40.6+ KB\n",
      "None\n"
     ]
    },
    {
     "data": {
      "text/html": [
       "<div>\n",
       "<style scoped>\n",
       "    .dataframe tbody tr th:only-of-type {\n",
       "        vertical-align: middle;\n",
       "    }\n",
       "\n",
       "    .dataframe tbody tr th {\n",
       "        vertical-align: top;\n",
       "    }\n",
       "\n",
       "    .dataframe thead th {\n",
       "        text-align: right;\n",
       "    }\n",
       "</style>\n",
       "<table border=\"1\" class=\"dataframe\">\n",
       "  <thead>\n",
       "    <tr style=\"text-align: right;\">\n",
       "      <th></th>\n",
       "      <th>날짜</th>\n",
       "      <th>연령대</th>\n",
       "      <th>브랜드</th>\n",
       "      <th>관심도</th>\n",
       "    </tr>\n",
       "  </thead>\n",
       "  <tbody>\n",
       "    <tr>\n",
       "      <th>0</th>\n",
       "      <td>2024-02-05</td>\n",
       "      <td>10대</td>\n",
       "      <td>그라운드플랜</td>\n",
       "      <td>15.50387</td>\n",
       "    </tr>\n",
       "    <tr>\n",
       "      <th>1</th>\n",
       "      <td>2024-02-12</td>\n",
       "      <td>10대</td>\n",
       "      <td>그라운드플랜</td>\n",
       "      <td>8.52713</td>\n",
       "    </tr>\n",
       "    <tr>\n",
       "      <th>2</th>\n",
       "      <td>2024-02-19</td>\n",
       "      <td>10대</td>\n",
       "      <td>그라운드플랜</td>\n",
       "      <td>3.87596</td>\n",
       "    </tr>\n",
       "    <tr>\n",
       "      <th>3</th>\n",
       "      <td>2024-02-26</td>\n",
       "      <td>10대</td>\n",
       "      <td>그라운드플랜</td>\n",
       "      <td>12.40310</td>\n",
       "    </tr>\n",
       "    <tr>\n",
       "      <th>4</th>\n",
       "      <td>2024-03-04</td>\n",
       "      <td>10대</td>\n",
       "      <td>그라운드플랜</td>\n",
       "      <td>6.20155</td>\n",
       "    </tr>\n",
       "  </tbody>\n",
       "</table>\n",
       "</div>"
      ],
      "text/plain": [
       "           날짜  연령대     브랜드       관심도\n",
       "0  2024-02-05  10대  그라운드플랜  15.50387\n",
       "1  2024-02-12  10대  그라운드플랜   8.52713\n",
       "2  2024-02-19  10대  그라운드플랜   3.87596\n",
       "3  2024-02-26  10대  그라운드플랜  12.40310\n",
       "4  2024-03-04  10대  그라운드플랜   6.20155"
      ]
     },
     "metadata": {},
     "output_type": "display_data"
    }
   ],
   "source": [
    "# DF 구조 바꾸기\n",
    "fake_melt = pd.melt(fake_age,id_vars=['날짜', '연령대'], value_vars=['그라운드플랜', '셀인샷', '에스네이처', '쏘내추럴'])\n",
    "\n",
    "# DF 컬럼명 수정\n",
    "fake_melt.rename(columns = {'variable':'브랜드', 'value':'관심도'}, inplace=True)\n",
    "\n",
    "print(fake_melt.info())\n",
    "fake_melt.head()"
   ]
  },
  {
   "cell_type": "code",
   "execution_count": null,
   "metadata": {},
   "outputs": [
    {
     "data": {
      "text/html": [
       "<div>\n",
       "<style scoped>\n",
       "    .dataframe tbody tr th:only-of-type {\n",
       "        vertical-align: middle;\n",
       "    }\n",
       "\n",
       "    .dataframe tbody tr th {\n",
       "        vertical-align: top;\n",
       "    }\n",
       "\n",
       "    .dataframe thead th {\n",
       "        text-align: right;\n",
       "    }\n",
       "</style>\n",
       "<table border=\"1\" class=\"dataframe\">\n",
       "  <thead>\n",
       "    <tr style=\"text-align: right;\">\n",
       "      <th></th>\n",
       "      <th>연령대</th>\n",
       "      <th>브랜드</th>\n",
       "      <th>관심도</th>\n",
       "    </tr>\n",
       "  </thead>\n",
       "  <tbody>\n",
       "    <tr>\n",
       "      <th>0</th>\n",
       "      <td>10대</td>\n",
       "      <td>그라운드플랜</td>\n",
       "      <td>5.096178</td>\n",
       "    </tr>\n",
       "    <tr>\n",
       "      <th>1</th>\n",
       "      <td>10대</td>\n",
       "      <td>셀인샷</td>\n",
       "      <td>15.905824</td>\n",
       "    </tr>\n",
       "    <tr>\n",
       "      <th>2</th>\n",
       "      <td>10대</td>\n",
       "      <td>쏘내추럴</td>\n",
       "      <td>27.720352</td>\n",
       "    </tr>\n",
       "    <tr>\n",
       "      <th>3</th>\n",
       "      <td>10대</td>\n",
       "      <td>에스네이처</td>\n",
       "      <td>64.585123</td>\n",
       "    </tr>\n",
       "    <tr>\n",
       "      <th>4</th>\n",
       "      <td>20대</td>\n",
       "      <td>그라운드플랜</td>\n",
       "      <td>10.626208</td>\n",
       "    </tr>\n",
       "  </tbody>\n",
       "</table>\n",
       "</div>"
      ],
      "text/plain": [
       "   연령대     브랜드        관심도\n",
       "0  10대  그라운드플랜   5.096178\n",
       "1  10대     셀인샷  15.905824\n",
       "2  10대    쏘내추럴  27.720352\n",
       "3  10대   에스네이처  64.585123\n",
       "4  20대  그라운드플랜  10.626208"
      ]
     },
     "metadata": {},
     "output_type": "display_data"
    }
   ],
   "source": [
    "# 브랜드별 평균 관심도 확인 \n",
    "fake_avg = fake_melt.groupby(['연령대', '브랜드'])['관심도'].mean()\n",
    "fake_avg = fake_avg.reset_index()\n",
    "\n",
    "print(fake_avg.info())\n",
    "fake_avg.head()"
   ]
  },
  {
   "cell_type": "code",
   "execution_count": null,
   "metadata": {},
   "outputs": [
    {
     "name": "stdout",
     "output_type": "stream",
     "text": [
      "<class 'pandas.core.frame.DataFrame'>\n",
      "RangeIndex: 24 entries, 0 to 23\n",
      "Data columns (total 4 columns):\n",
      " #   Column  Non-Null Count  Dtype  \n",
      "---  ------  --------------  -----  \n",
      " 0   날짜      24 non-null     object \n",
      " 1   연령대     24 non-null     object \n",
      " 2   브랜드     24 non-null     object \n",
      " 3   관심도     24 non-null     float64\n",
      "dtypes: float64(1), object(3)\n",
      "memory usage: 896.0+ bytes\n"
     ]
    }
   ],
   "source": [
    "# avg df에 날짜 컬럼 삽입 및 순서 변경\n",
    "# 날짜 = '총합' 추가 -> 연령별 각 브랜드의 관심도 평균 확인 가능\n",
    "fake_avg['날짜'] = '총합'\n",
    "fake_avg = fake_avg[['날짜', '연령대', '브랜드', '관심도']]\n",
    "\n",
    "fake_avg.info()"
   ]
  },
  {
   "cell_type": "code",
   "execution_count": null,
   "metadata": {},
   "outputs": [
    {
     "name": "stdout",
     "output_type": "stream",
     "text": [
      "<class 'pandas.core.frame.DataFrame'>\n",
      "Index: 1320 entries, 0 to 1295\n",
      "Data columns (total 4 columns):\n",
      " #   Column  Non-Null Count  Dtype  \n",
      "---  ------  --------------  -----  \n",
      " 0   날짜      1320 non-null   object \n",
      " 1   연령대     1320 non-null   object \n",
      " 2   브랜드     1320 non-null   object \n",
      " 3   관심도     1320 non-null   float64\n",
      "dtypes: float64(1), object(3)\n",
      "memory usage: 51.6+ KB\n"
     ]
    },
    {
     "data": {
      "text/html": [
       "<div>\n",
       "<style scoped>\n",
       "    .dataframe tbody tr th:only-of-type {\n",
       "        vertical-align: middle;\n",
       "    }\n",
       "\n",
       "    .dataframe tbody tr th {\n",
       "        vertical-align: top;\n",
       "    }\n",
       "\n",
       "    .dataframe thead th {\n",
       "        text-align: right;\n",
       "    }\n",
       "</style>\n",
       "<table border=\"1\" class=\"dataframe\">\n",
       "  <thead>\n",
       "    <tr style=\"text-align: right;\">\n",
       "      <th></th>\n",
       "      <th>날짜</th>\n",
       "      <th>연령대</th>\n",
       "      <th>브랜드</th>\n",
       "      <th>관심도</th>\n",
       "      <th>대분류</th>\n",
       "      <th>중분류1</th>\n",
       "    </tr>\n",
       "  </thead>\n",
       "  <tbody>\n",
       "    <tr>\n",
       "      <th>0</th>\n",
       "      <td>총합</td>\n",
       "      <td>10대</td>\n",
       "      <td>그라운드플랜</td>\n",
       "      <td>5.096178</td>\n",
       "      <td>스킨케어</td>\n",
       "      <td>기타</td>\n",
       "    </tr>\n",
       "    <tr>\n",
       "      <th>1</th>\n",
       "      <td>총합</td>\n",
       "      <td>10대</td>\n",
       "      <td>셀인샷</td>\n",
       "      <td>15.905824</td>\n",
       "      <td>스킨케어</td>\n",
       "      <td>기타</td>\n",
       "    </tr>\n",
       "    <tr>\n",
       "      <th>2</th>\n",
       "      <td>총합</td>\n",
       "      <td>10대</td>\n",
       "      <td>쏘내추럴</td>\n",
       "      <td>27.720352</td>\n",
       "      <td>스킨케어</td>\n",
       "      <td>기타</td>\n",
       "    </tr>\n",
       "    <tr>\n",
       "      <th>3</th>\n",
       "      <td>총합</td>\n",
       "      <td>10대</td>\n",
       "      <td>에스네이처</td>\n",
       "      <td>64.585123</td>\n",
       "      <td>스킨케어</td>\n",
       "      <td>기타</td>\n",
       "    </tr>\n",
       "    <tr>\n",
       "      <th>4</th>\n",
       "      <td>총합</td>\n",
       "      <td>20대</td>\n",
       "      <td>그라운드플랜</td>\n",
       "      <td>10.626208</td>\n",
       "      <td>스킨케어</td>\n",
       "      <td>기타</td>\n",
       "    </tr>\n",
       "  </tbody>\n",
       "</table>\n",
       "</div>"
      ],
      "text/plain": [
       "   날짜  연령대     브랜드        관심도   대분류 중분류1\n",
       "0  총합  10대  그라운드플랜   5.096178  스킨케어   기타\n",
       "1  총합  10대     셀인샷  15.905824  스킨케어   기타\n",
       "2  총합  10대    쏘내추럴  27.720352  스킨케어   기타\n",
       "3  총합  10대   에스네이처  64.585123  스킨케어   기타\n",
       "4  총합  20대  그라운드플랜  10.626208  스킨케어   기타"
      ]
     },
     "metadata": {},
     "output_type": "display_data"
    }
   ],
   "source": [
    "# melt & avg df 병합\n",
    "fake_age_df = pd.concat([fake_avg, fake_melt])\n",
    "fake_age_df.info()\n",
    "\n",
    "# 분류 필터를 위한 분류 컬럼 생성\n",
    "fake_age_df['대분류'] = '스킨케어'\n",
    "fake_age_df['중분류1'] = '기타'\n",
    "\n",
    "fake_age_df.head()\n",
    "\n",
    "# 통합시 한번에 저장하기 위한 함수\n",
    "all_age_list(fake_age_df)"
   ]
  },
  {
   "cell_type": "code",
   "execution_count": null,
   "metadata": {},
   "outputs": [],
   "source": [
    "# 원본 데이터 저장\n",
    "fake_age_df.to_csv('기타_연령별선호도.csv', index=False, encoding=\"utf-8-sig\")"
   ]
  }
 ],
 "metadata": {
  "kernelspec": {
   "display_name": "python_virtualenv",
   "language": "python",
   "name": "python3"
  },
  "language_info": {
   "codemirror_mode": {
    "name": "ipython",
    "version": 3
   },
   "file_extension": ".py",
   "mimetype": "text/x-python",
   "name": "python",
   "nbconvert_exporter": "python",
   "pygments_lexer": "ipython3",
   "version": "3.8.6"
  }
 },
 "nbformat": 4,
 "nbformat_minor": 2
}
